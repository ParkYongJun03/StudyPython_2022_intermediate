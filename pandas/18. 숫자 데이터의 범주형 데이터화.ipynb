{
 "cells": [
  {
   "cell_type": "markdown",
   "metadata": {},
   "source": [
    "## 학습목표\n",
    " 1. 숫자 데이터의 범주형 데이터 화"
   ]
  },
  {
   "cell_type": "code",
   "execution_count": 1,
   "metadata": {},
   "outputs": [],
   "source": [
    "import pandas as pd"
   ]
  },
  {
   "cell_type": "code",
   "execution_count": 10,
   "metadata": {},
   "outputs": [
    {
     "name": "stdout",
     "output_type": "stream",
     "text": [
      "   PassengerId  Survived  Pclass  \\\n",
      "0            1         0       3   \n",
      "1            2         1       1   \n",
      "2            3         1       3   \n",
      "3            4         1       1   \n",
      "4            5         0       3   \n",
      "\n",
      "                                                Name     Sex   Age  SibSp  \\\n",
      "0                            Braund, Mr. Owen Harris    male  22.0      1   \n",
      "1  Cumings, Mrs. John Bradley (Florence Briggs Th...  female  38.0      1   \n",
      "2                             Heikkinen, Miss. Laina  female  26.0      0   \n",
      "3       Futrelle, Mrs. Jacques Heath (Lily May Peel)  female  35.0      1   \n",
      "4                           Allen, Mr. William Henry    male  35.0      0   \n",
      "\n",
      "   Parch            Ticket     Fare Cabin Embarked  \n",
      "0      0         A/5 21171   7.2500   NaN        S  \n",
      "1      0          PC 17599  71.2833   C85        C  \n",
      "2      0  STON/O2. 3101282   7.9250   NaN        S  \n",
      "3      0            113803  53.1000  C123        S  \n",
      "4      0            373450   8.0500   NaN        S  \n",
      "0      22.0\n",
      "1      38.0\n",
      "2      26.0\n",
      "3      35.0\n",
      "4      35.0\n",
      "       ... \n",
      "886    27.0\n",
      "887    19.0\n",
      "888     NaN\n",
      "889    26.0\n",
      "890    32.0\n",
      "Name: Age, Length: 891, dtype: float64\n"
     ]
    }
   ],
   "source": [
    "# data 출처: https://www.kaggle.com/hesh97/titanicdataset-traincsv/data\n",
    "train_data = pd.read_csv('./train.csv')\n",
    "print(train_data.head())\n",
    "print(train_data['Age'])"
   ]
  },
  {
   "cell_type": "markdown",
   "metadata": {},
   "source": [
    "#### Pclass 변수 변환하기\n",
    " - astype 사용하여 간단히 타입만 변환"
   ]
  },
  {
   "cell_type": "code",
   "execution_count": 3,
   "metadata": {},
   "outputs": [],
   "source": [
    "train_data['Pclass'] = train_data['Pclass'].astype(str)"
   ]
  },
  {
   "cell_type": "markdown",
   "metadata": {},
   "source": [
    "#### Age 변수 변환하기\n",
    " - 변환 로직을 함수로 만든 후, apply 함수로 적용"
   ]
  },
  {
   "cell_type": "code",
   "execution_count": 11,
   "metadata": {},
   "outputs": [],
   "source": [
    "import math\n",
    "def age_categorize(age):\n",
    "    if math.isnan(age):\n",
    "        return -1\n",
    "    return math.floor(age/10)* 10"
   ]
  },
  {
   "cell_type": "code",
   "execution_count": 13,
   "metadata": {},
   "outputs": [
    {
     "data": {
      "text/plain": [
       "0      20\n",
       "1      30\n",
       "2      20\n",
       "3      30\n",
       "4      30\n",
       "       ..\n",
       "886    20\n",
       "887    10\n",
       "888    -1\n",
       "889    20\n",
       "890    30\n",
       "Name: Age, Length: 891, dtype: int64"
      ]
     },
     "execution_count": 13,
     "metadata": {},
     "output_type": "execute_result"
    }
   ],
   "source": [
    "train_data['Age'].apply(age_categorize)\n",
    "#apply는 pandas에서 지원해준다.\n",
    "#apply : 하나하나 적용시켜준다. or for문을 써야한다."
   ]
  },
  {
   "cell_type": "code",
   "execution_count": 15,
   "metadata": {},
   "outputs": [
    {
     "data": {
      "text/plain": [
       "0      22.0\n",
       "1      38.0\n",
       "2      26.0\n",
       "3      35.0\n",
       "4      35.0\n",
       "       ... \n",
       "886    27.0\n",
       "887    19.0\n",
       "888     NaN\n",
       "889    26.0\n",
       "890    32.0\n",
       "Name: Age, Length: 891, dtype: float64"
      ]
     },
     "execution_count": 15,
     "metadata": {},
     "output_type": "execute_result"
    }
   ],
   "source": [
    "train_data['Age']"
   ]
  },
  {
   "cell_type": "code",
   "execution_count": 18,
   "metadata": {},
   "outputs": [
    {
     "name": "stdout",
     "output_type": "stream",
     "text": [
      "20, 30, 20, 30, 30, 50, 0, 20, 10, 0, 50, 20, 30, 10, 50, 0, 30, 30, 30, 10, 20, 0, 30, 10, 40, 60, 20, 40, 20, 10, 10, 40, 20, 0, 10, 10, 0, 20, 40, 20, 60, 20, 20, 0, 10, 20, 30, 40, 0, 20, 10, 10, 20, 30, 10, 20, 20, 30, 20, 0, 30, 20, 20, 20, 10, 30, 10, 20, 20, 20, 20, 40, 20, 50, 70, 20, 30, 30, 20, 20, 30, 30, 20, 20, 30, 40, 10, 20, 20, 10, 20, 70, 20, 20, 0, 20, 30, 30, 50, 10, 20, 40, 30, 20, 40, 20, 20, 20, 10, 30, 10, 20, 20, 20, 10, 10, 10, 20, 0, 30, 40, 50, 20, 50, 40, 50, 10, 30, 40, 40, 20, 10, 0, 0, 40, 20, 60, 0, 0, 20, 50, 10, 50, 30, 30, 0, 0, 0, 40, 40, 30, 30, 10, 10, 0, 40, 50, 40, 20, 20, 30, 40, 10, 0, 30, 20, 10, 40, 20, 30, 20, 30, 30, 20, 40, 30, 30, 10, 20, 50, 30, 20, 10, 20, 10, 30, 20, 50, 0, 20, 40, 0, 10, 30, 20, 20, 30, 40, 20, 20, 30, 50, 20, 60, 30, 40, 20, 30, 30, 50, 0, 50, 40, 30, 10, 20, 50, 30, 20, 40, 30, 60, 40, 0, 30, 60, 20, 10, 10, 30, 30, 20, 40, 20, 20, 10, 30, 20, 20, 20, 0, 50, 10, 0, 10, 30, 30, 20, 10, 20, 20, 40, 20, 20, 50, 30, 40, 20, 20, 30, 20, 30, 60, 30, 30, 10, 40, 30, 10, 20, 40, 40, 40, 0, 20, 20, 20, 30, 20, 40, 0, 40, 20, 10, 20, 20, 20, 30, 40, 20, 40, 30, 30, 60, 20, 20, 10, 10, 20, 0, 20, 20, 20, 10, 40, 0, 30, 30, 10, 0, 30, 10, 30, 20, 20, 20, 20, 20, 30, 40, 20, 20, 30, 20, 20, 20, 20, 30, 50, 0, 20, 30, 40, 30, 10, 30, 10, 20, 20, 20, 10, 20, 10, 30, 20, 40, 10, 50, 10, 20, 20, 60, 30, 40, 20, 20, 20, 0, 10, 30, 0, 50, 30, 30, 40, 20, 60, 50, 40, 30, 40, 40, 30, 50, 0, 30, 30, 20, 20, 30, 20, 20, 0, 0, 50, 60, 20, 30, 50, 30, 0, 20, 50, 70, 20, 50, 20, 20, 10, 20, 30, 10, 10, 30, 20, 20, 20, 30, 50, 20, 40, 30, 30, 30, 30, 20, 40, 40, 50, 30, 20, 0, 10, 30, 0, 40, 30, 20, 30, 0, 10, 30, 50, 60, 10, 30, 0, 10, 20, 20, 20, 60, 40, 30, 30, 40, 20, 20, 10, 20, 30, 60, 50, 30, 10, 10, 30, 30, 30, 20, 30, 50, 30, 10, 40, 60, 20, 30, 50, 40, 30, 30, 40, 40, 20, 40, 30, 30, 30, 20, 20, 40, 30, 30, 20, 30, 20, 0, 20, 20, 40, 20, 20, 20, 60, 50, 20, 20, 80, 50, 30, 0, 20, 30, 30, 40, 20, 20, 0, 0, 40, 10, 50, 20, 10, 20, 10, 20, 30, 20, 50, 50, 40, 40, 30, 20, 30, 20, 40, 40, 30, 70, 30, 10, 20, 10, 40, 30, 20, 20, 10, 60, 20, 10, 10, 10, 10, 30, 0, 20, 60, 50, 40, 40, 40, 10, 30, 10, 20, 20, 30, 40, 40, 20, 20, 40, 20, 50, 10, 30, 20, 30, 0, 10, 30, 50, 20, 20, 30, 20, 20, 20, 10, 20, 20, 20, 40, 30, 30, 20, 20, 30, 70, 10, 30, 10, 30, 0, 0, 30, 20, 40, 0, 20, 10, 30, 30, 40, 20, 30, 10, 50, 30, 30, 20, 40, 50, 50, 10, 0, 40, 10, 10, 20, 20, 20, 10, 0, 0, 40, 10, 20, 30, 40, 30, 30, 30, 30, 30, 10, 0, 20, 30, 30, 10, 30, 30, 20, 30, 30, 0, 30, 20, 30, 40, 10, 50, 20, 30, 20, 0, 0, 60, 10, 0, 20, 10, 30, 20, 30, 20, 10, 30, 30, 10, 40, 30, 20, 0, 70, 0, 10, 40, 10, 40, 50, 20, 40, 20, 40, 20, 40, 20, 30, 0, 20, 40, 30, 40, 20, 10, 20, 10, 50, 20, 30, 20, 20, 20, 30, 20, 10, 20, 30, "
     ]
    }
   ],
   "source": [
    "# apply를 안 쓰면 for문을 써야한다.\n",
    "for age in train_data['Age'] :\n",
    "    tmp = int\n",
    "    if math.isnan(age):\n",
    "        tmp = -1\n",
    "        continue\n",
    "    tmp = math.floor(age/10)*10\n",
    "    print(tmp, end=', ')"
   ]
  }
 ],
 "metadata": {
  "kernelspec": {
   "display_name": "Python 3.10.4 ('venv': venv)",
   "language": "python",
   "name": "python3"
  },
  "language_info": {
   "codemirror_mode": {
    "name": "ipython",
    "version": 3
   },
   "file_extension": ".py",
   "mimetype": "text/x-python",
   "name": "python",
   "nbconvert_exporter": "python",
   "pygments_lexer": "ipython3",
   "version": "3.10.4"
  },
  "vscode": {
   "interpreter": {
    "hash": "90ac1054ae4d1b4495e17feae2810903bb0a00e72b37ea23b21635b94dd8315c"
   }
  }
 },
 "nbformat": 4,
 "nbformat_minor": 1
}
