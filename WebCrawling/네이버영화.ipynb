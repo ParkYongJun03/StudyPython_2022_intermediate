{
 "cells": [
  {
   "cell_type": "code",
   "execution_count": 23,
   "metadata": {},
   "outputs": [],
   "source": [
    "import requests\n",
    "from bs4 import BeautifulSoup\n",
    "import pandas as pd"
   ]
  },
  {
   "cell_type": "code",
   "execution_count": 2,
   "metadata": {},
   "outputs": [],
   "source": [
    "url = 'https://movie.naver.com/movie/running/current.naver'\n",
    "resp = requests.get(url)\n",
    "resp.text\n",
    "soup = BeautifulSoup(resp.text)"
   ]
  },
  {
   "cell_type": "code",
   "execution_count": 13,
   "metadata": {},
   "outputs": [],
   "source": [
    "lst_dsc = soup.find_all('dl', class_='lst_dsc')[0]"
   ]
  },
  {
   "cell_type": "code",
   "execution_count": 4,
   "metadata": {},
   "outputs": [],
   "source": [
    "dt_tit = lst_dsc.find('dt', class_='tit')"
   ]
  },
  {
   "cell_type": "code",
   "execution_count": 5,
   "metadata": {},
   "outputs": [
    {
     "data": {
      "text/plain": [
       "'베르네 부인의 장미정원'"
      ]
     },
     "execution_count": 5,
     "metadata": {},
     "output_type": "execute_result"
    }
   ],
   "source": [
    "dt_tit.find('a').get_text()"
   ]
  },
  {
   "cell_type": "code",
   "execution_count": 6,
   "metadata": {},
   "outputs": [],
   "source": [
    "dl_info_star = lst_dsc.find('dl', class_='info_star')"
   ]
  },
  {
   "cell_type": "code",
   "execution_count": 7,
   "metadata": {},
   "outputs": [
    {
     "data": {
      "text/plain": [
       "[<span class=\"num\">9.39</span>, <span class=\"num\">7.00</span>]"
      ]
     },
     "execution_count": 7,
     "metadata": {},
     "output_type": "execute_result"
    }
   ],
   "source": [
    "dl_info_star.find_all('span', class_='num')"
   ]
  },
  {
   "cell_type": "code",
   "execution_count": 8,
   "metadata": {},
   "outputs": [],
   "source": [
    "net = dl_info_star.find_all('span', class_='num')[0].get_text()\n",
    "gija = dl_info_star.find_all('span', class_='num')[1].get_text()"
   ]
  },
  {
   "cell_type": "code",
   "execution_count": 9,
   "metadata": {},
   "outputs": [
    {
     "name": "stdout",
     "output_type": "stream",
     "text": [
      "9.39\n",
      "7.00\n"
     ]
    }
   ],
   "source": [
    "print(net)\n",
    "print(gija)"
   ]
  },
  {
   "cell_type": "code",
   "execution_count": 24,
   "metadata": {},
   "outputs": [],
   "source": [
    "lst_dsc = soup.find_all('dl', class_='lst_dsc')\n",
    "movie_list = list()\n",
    "df = pd.DataFrame()\n",
    "for dsc in lst_dsc:\n",
    "    dt_tit = dsc.find('dt', class_='tit')\n",
    "    title = dt_tit.find('a').get_text()\n",
    "    dl_info_star = dsc.find('dl', class_='info_star')\n",
    "    net = dl_info_star.find_all('span', class_='num')[0].get_text()\n",
    "    if(len(dl_info_star.find_all('span', class_='num')) == 2):\n",
    "        gija = dl_info_star.find_all('span', class_='num')[1].get_text()\n",
    "    movie = dict()\n",
    "    movie['title'] = title\n",
    "    movie['net'] = net\n",
    "    movie['gija'] = gija\n",
    "    movie_list.append(movie)"
   ]
  },
  {
   "cell_type": "code",
   "execution_count": 12,
   "metadata": {},
   "outputs": [
    {
     "data": {
      "text/plain": [
       "{'title': '베르네 부인의 장미정원', 'net': '9.39', 'gija': '7.00'}"
      ]
     },
     "execution_count": 12,
     "metadata": {},
     "output_type": "execute_result"
    }
   ],
   "source": [
    "movie_list[0]"
   ]
  }
 ],
 "metadata": {
  "kernelspec": {
   "display_name": "Python 3.10.4 ('venv': venv)",
   "language": "python",
   "name": "python3"
  },
  "language_info": {
   "codemirror_mode": {
    "name": "ipython",
    "version": 3
   },
   "file_extension": ".py",
   "mimetype": "text/x-python",
   "name": "python",
   "nbconvert_exporter": "python",
   "pygments_lexer": "ipython3",
   "version": "3.10.4"
  },
  "vscode": {
   "interpreter": {
    "hash": "90ac1054ae4d1b4495e17feae2810903bb0a00e72b37ea23b21635b94dd8315c"
   }
  }
 },
 "nbformat": 4,
 "nbformat_minor": 4
}
