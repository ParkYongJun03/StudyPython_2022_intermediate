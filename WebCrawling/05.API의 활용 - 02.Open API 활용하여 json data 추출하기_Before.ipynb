{
 "cells": [
  {
   "cell_type": "markdown",
   "metadata": {},
   "source": [
    "### 학습목표\n",
    " 1. OPEN API 사용하여 데이터 획득하기"
   ]
  },
  {
   "cell_type": "markdown",
   "metadata": {},
   "source": [
    "#### 공공데이터 포털 OPEN API 사용하기\n",
    "1. 공공데이터 포털 회원가입/로그인(https://www.data.go.kr/)\n",
    "2. API 사용 요청 / 키 발급\n",
    "3. API 문서(specification) 확인\n",
    "4. API 테스트 및 개발"
   ]
  },
  {
   "cell_type": "code",
   "execution_count": 2,
   "metadata": {},
   "outputs": [],
   "source": [
    "import requests"
   ]
  },
  {
   "cell_type": "markdown",
   "metadata": {},
   "source": [
    "#### Endpoint 확인하기\n",
    " - API가 서비스되는 서버의 IP 혹은 domain 주소"
   ]
  },
  {
   "cell_type": "code",
   "execution_count": 4,
   "metadata": {},
   "outputs": [],
   "source": [
    "serviceKey = 'v3%2Ba%2FgQwZ2yRv5tiZME8EIyzxG2c0L34lhUBI8%2Fu27cOw3QQCYYftNgd8Izc1nTW4uokpNTjaRLadHrqLcZECA%3D%3D'"
   ]
  },
  {
   "cell_type": "code",
   "execution_count": 5,
   "metadata": {},
   "outputs": [],
   "source": [
    "endpoint = 'https://api.odcloud.kr/api/15098465/v1/uddi:b299ef06-0f02-4c1b-a214-9f4a6196905c?page=1&perPage=10&serviceKey=v3%2Ba%2FgQwZ2yRv5tiZME8EIyzxG2c0L34lhUBI8%2Fu27cOw3QQCYYftNgd8Izc1nTW4uokpNTjaRLadHrqLcZECA%3D%3D'\n",
    "endpoint2 = 'https://api.odcloud.kr/api/15098465/v1/uddi:b299ef06-0f02-4c1b-a214-9f4a6196905c?page=1&perPage=10&serviceKey={}'.format(serviceKey)\n"
   ]
  },
  {
   "cell_type": "markdown",
   "metadata": {},
   "source": [
    "#### key 값 확인하기\n",
    " - 서비스 호출 트래킹할 목적이나 악의적인 사용을 금지할 목적으로 주로 사용\n",
    " - 새로 발급받은 키는 1시간 이후 사용 가능"
   ]
  },
  {
   "cell_type": "markdown",
   "metadata": {},
   "source": [
    "#### Parameter 확인하기\n",
    " - API 호출에 필요한 parameter 값 확인 및 구성"
   ]
  },
  {
   "cell_type": "code",
   "execution_count": 6,
   "metadata": {},
   "outputs": [
    {
     "name": "stdout",
     "output_type": "stream",
     "text": [
      "https://api.odcloud.kr/api/15098465/v1/uddi:b299ef06-0f02-4c1b-a214-9f4a6196905c?page=1&perPage=10&serviceKey=v3%2Ba%2FgQwZ2yRv5tiZME8EIyzxG2c0L34lhUBI8%2Fu27cOw3QQCYYftNgd8Izc1nTW4uokpNTjaRLadHrqLcZECA%3D%3D\n"
     ]
    }
   ],
   "source": [
    "print(endpoint2)"
   ]
  },
  {
   "cell_type": "code",
   "execution_count": 7,
   "metadata": {},
   "outputs": [
    {
     "name": "stdout",
     "output_type": "stream",
     "text": [
      "200\n"
     ]
    },
    {
     "data": {
      "text/plain": [
       "'{\"currentCount\":3,\"data\":[{\"구분\":\"직접배출(SCOPE 1)고정연소\",\"메테인\":\"0.696\",\"아산화질소\":\"0.326\",\"에너지 사용량(TJ)\":\"0.00\",\"이산화탄소\":\"4.395\"},{\"구분\":\"직접배출(SCOPE 1)이동연소\",\"메테인\":\"0.028\",\"아산화질소\":\"0.002\",\"에너지 사용량(TJ)\":\"0.00\",\"이산화탄소\":\"0.202\"},{\"구분\":\"간접배출(SCOPE 2)(전기구매)\",\"메테인\":\"9.051\",\"아산화질소\":\"4.525\",\"에너지 사용량(TJ)\":\"16.09\",\"이산화탄소\":\"779.865\"}],\"matchCount\":3,\"page\":1,\"perPage\":10,\"totalCount\":3}\\n'"
      ]
     },
     "execution_count": 7,
     "metadata": {},
     "output_type": "execute_result"
    }
   ],
   "source": [
    "resp = requests.get(endpoint)\n",
    "print(resp.status_code)\n",
    "resp.text"
   ]
  },
  {
   "cell_type": "markdown",
   "metadata": {},
   "source": [
    "#### 요청 및 Response 확인\n",
    " - requests 모듈을 활용하여 API 호출\n",
    " - response 확인하여 원하는 정보 추출\n",
    " - json 데이터의 경우, python dictionary로 변경하여 사용가능"
   ]
  },
  {
   "cell_type": "code",
   "execution_count": 8,
   "metadata": {},
   "outputs": [],
   "source": [
    "data = resp.json()"
   ]
  },
  {
   "cell_type": "code",
   "execution_count": 9,
   "metadata": {},
   "outputs": [
    {
     "data": {
      "text/plain": [
       "{'currentCount': 3,\n",
       " 'data': [{'구분': '직접배출(SCOPE 1)고정연소',\n",
       "   '메테인': '0.696',\n",
       "   '아산화질소': '0.326',\n",
       "   '에너지 사용량(TJ)': '0.00',\n",
       "   '이산화탄소': '4.395'},\n",
       "  {'구분': '직접배출(SCOPE 1)이동연소',\n",
       "   '메테인': '0.028',\n",
       "   '아산화질소': '0.002',\n",
       "   '에너지 사용량(TJ)': '0.00',\n",
       "   '이산화탄소': '0.202'},\n",
       "  {'구분': '간접배출(SCOPE 2)(전기구매)',\n",
       "   '메테인': '9.051',\n",
       "   '아산화질소': '4.525',\n",
       "   '에너지 사용량(TJ)': '16.09',\n",
       "   '이산화탄소': '779.865'}],\n",
       " 'matchCount': 3,\n",
       " 'page': 1,\n",
       " 'perPage': 10,\n",
       " 'totalCount': 3}"
      ]
     },
     "execution_count": 9,
     "metadata": {},
     "output_type": "execute_result"
    }
   ],
   "source": [
    "data"
   ]
  },
  {
   "cell_type": "code",
   "execution_count": 10,
   "metadata": {},
   "outputs": [
    {
     "data": {
      "text/plain": [
       "[{'구분': '직접배출(SCOPE 1)고정연소',\n",
       "  '메테인': '0.696',\n",
       "  '아산화질소': '0.326',\n",
       "  '에너지 사용량(TJ)': '0.00',\n",
       "  '이산화탄소': '4.395'},\n",
       " {'구분': '직접배출(SCOPE 1)이동연소',\n",
       "  '메테인': '0.028',\n",
       "  '아산화질소': '0.002',\n",
       "  '에너지 사용량(TJ)': '0.00',\n",
       "  '이산화탄소': '0.202'},\n",
       " {'구분': '간접배출(SCOPE 2)(전기구매)',\n",
       "  '메테인': '9.051',\n",
       "  '아산화질소': '4.525',\n",
       "  '에너지 사용량(TJ)': '16.09',\n",
       "  '이산화탄소': '779.865'}]"
      ]
     },
     "execution_count": 10,
     "metadata": {},
     "output_type": "execute_result"
    }
   ],
   "source": [
    "data['data']"
   ]
  },
  {
   "cell_type": "code",
   "execution_count": 13,
   "metadata": {},
   "outputs": [
    {
     "name": "stdout",
     "output_type": "stream",
     "text": [
      "직접배출(SCOPE 1)고정연소\n"
     ]
    }
   ],
   "source": [
    "print(data['data'][0]['구분'])\n"
   ]
  },
  {
   "cell_type": "code",
   "execution_count": 14,
   "metadata": {},
   "outputs": [
    {
     "name": "stdout",
     "output_type": "stream",
     "text": [
      "{'구분': '직접배출(SCOPE 1)이동연소', '메테인': '0.028', '아산화질소': '0.002', '에너지 사용량(TJ)': '0.00', '이산화탄소': '0.202'}\n",
      "{'구분': '간접배출(SCOPE 2)(전기구매)', '메테인': '9.051', '아산화질소': '4.525', '에너지 사용량(TJ)': '16.09', '이산화탄소': '779.865'}\n"
     ]
    }
   ],
   "source": [
    "print(data['data'][1])\n",
    "print(data['data'][2])"
   ]
  }
 ],
 "metadata": {
  "kernelspec": {
   "display_name": "Python 3.10.4 64-bit",
   "language": "python",
   "name": "python3"
  },
  "language_info": {
   "codemirror_mode": {
    "name": "ipython",
    "version": 3
   },
   "file_extension": ".py",
   "mimetype": "text/x-python",
   "name": "python",
   "nbconvert_exporter": "python",
   "pygments_lexer": "ipython3",
   "version": "3.10.4"
  },
  "vscode": {
   "interpreter": {
    "hash": "fe3d9237b4a62cd7715eb234158a07f236d8efc42b8ea743ee7cae33e0917df2"
   }
  }
 },
 "nbformat": 4,
 "nbformat_minor": 4
}
