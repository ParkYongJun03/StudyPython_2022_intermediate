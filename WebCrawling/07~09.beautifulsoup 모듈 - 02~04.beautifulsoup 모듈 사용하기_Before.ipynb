{
 "cells": [
  {
   "cell_type": "markdown",
   "metadata": {},
   "source": [
    "### 학습목표\n",
    "1. beautifulsoup 모듈 사용하기\n",
    "2. id, class 속성으로 tag 찾기\n",
    "3. CSS를 이용하여 tag 찾기\n",
    "4. 속성 값으로 tag 찾기\n",
    "5. 정규표현식으로 tag 찾기\n",
    "6. 개발자도구를 이용하여 동적으로 로딩되는 데이터 추출하기"
   ]
  },
  {
   "cell_type": "code",
   "execution_count": 1,
   "metadata": {},
   "outputs": [],
   "source": [
    "import requests\n",
    "from bs4 import BeautifulSoup"
   ]
  },
  {
   "cell_type": "markdown",
   "metadata": {},
   "source": [
    "#### 다음 뉴스 데이터 추출\n",
    " - 뉴스기사에서 제목, 작성자, 작성일\n",
    " , 댓글 개수 추출\n",
    " - [뉴스링크](https://news.v.daum.net/v/20190728165812603)\n",
    " - tag를 추출할때는 가장 그 tag를 쉽게 특정할 수 있는 속성을 사용\n",
    "  - id의 경우 원칙적으로 한 html 문서 내에서 유일\n",
    "  "
   ]
  },
  {
   "cell_type": "markdown",
   "metadata": {},
   "source": [
    "* id, class 속성으로 tag 찾기\n",
    " - 타이틀\n",
    " - 작성자, 작성일"
   ]
  },
  {
   "cell_type": "markdown",
   "metadata": {},
   "source": [
    "# CSS 선택자\n",
    "- 태그 : 태그이름\n",
    "- id : #id (<a id=abc herf=./abc.html>여기</a>) => #abc\n",
    "- class : .class (<a class = abc herf=./abc.html>여기</a> => .abc)\n",
    "- 자식 : 직계만\n",
    "- 자손 : 하위태그 전체"
   ]
  },
  {
   "cell_type": "code",
   "execution_count": 4,
   "metadata": {},
   "outputs": [
    {
     "data": {
      "text/plain": [
       "200"
      ]
     },
     "execution_count": 4,
     "metadata": {},
     "output_type": "execute_result"
    }
   ],
   "source": [
    "url  = 'https://news.v.daum.net/v/20190728165812603'\n",
    "resp = requests.get(url)\n",
    "resp.status_code"
   ]
  },
  {
   "cell_type": "code",
   "execution_count": 9,
   "metadata": {},
   "outputs": [
    {
     "data": {
      "text/plain": [
       "'일론머스크 \"테슬라에서 넷플릭스·유튜브 즐길 날 온다\"'"
      ]
     },
     "execution_count": 9,
     "metadata": {},
     "output_type": "execute_result"
    }
   ],
   "source": [
    "soup = BeautifulSoup(resp.text)\n",
    "title = soup.find('h3', class_='tit_view')\n",
    "title.get_text()"
   ]
  },
  {
   "cell_type": "code",
   "execution_count": 10,
   "metadata": {},
   "outputs": [
    {
     "ename": "AttributeError",
     "evalue": "ResultSet object has no attribute 'get_text'. You're probably treating a list of elements like a single element. Did you call find_all() when you meant to call find()?",
     "output_type": "error",
     "traceback": [
      "\u001b[1;31m---------------------------------------------------------------------------\u001b[0m",
      "\u001b[1;31mAttributeError\u001b[0m                            Traceback (most recent call last)",
      "\u001b[1;32m<ipython-input-10-18e8a74ab7f3>\u001b[0m in \u001b[0;36m<module>\u001b[1;34m\u001b[0m\n\u001b[0;32m      1\u001b[0m \u001b[0mtitle\u001b[0m \u001b[1;33m=\u001b[0m \u001b[0msoup\u001b[0m\u001b[1;33m.\u001b[0m\u001b[0mselect\u001b[0m\u001b[1;33m(\u001b[0m\u001b[1;34m'h3.tit_view'\u001b[0m\u001b[1;33m)\u001b[0m\u001b[1;33m\u001b[0m\u001b[1;33m\u001b[0m\u001b[0m\n\u001b[1;32m----> 2\u001b[1;33m \u001b[0mtitle\u001b[0m\u001b[1;33m.\u001b[0m\u001b[0mget_text\u001b[0m\u001b[1;33m(\u001b[0m\u001b[1;33m)\u001b[0m\u001b[1;33m\u001b[0m\u001b[1;33m\u001b[0m\u001b[0m\n\u001b[0m",
      "\u001b[1;32m~\\anaconda3\\lib\\site-packages\\bs4\\element.py\u001b[0m in \u001b[0;36m__getattr__\u001b[1;34m(self, key)\u001b[0m\n\u001b[0;32m   2158\u001b[0m     \u001b[1;32mdef\u001b[0m \u001b[0m__getattr__\u001b[0m\u001b[1;33m(\u001b[0m\u001b[0mself\u001b[0m\u001b[1;33m,\u001b[0m \u001b[0mkey\u001b[0m\u001b[1;33m)\u001b[0m\u001b[1;33m:\u001b[0m\u001b[1;33m\u001b[0m\u001b[1;33m\u001b[0m\u001b[0m\n\u001b[0;32m   2159\u001b[0m         \u001b[1;34m\"\"\"Raise a helpful exception to explain a common code fix.\"\"\"\u001b[0m\u001b[1;33m\u001b[0m\u001b[1;33m\u001b[0m\u001b[0m\n\u001b[1;32m-> 2160\u001b[1;33m         raise AttributeError(\n\u001b[0m\u001b[0;32m   2161\u001b[0m             \u001b[1;34m\"ResultSet object has no attribute '%s'. You're probably treating a list of elements like a single element. Did you call find_all() when you meant to call find()?\"\u001b[0m \u001b[1;33m%\u001b[0m \u001b[0mkey\u001b[0m\u001b[1;33m\u001b[0m\u001b[1;33m\u001b[0m\u001b[0m\n\u001b[0;32m   2162\u001b[0m         )\n",
      "\u001b[1;31mAttributeError\u001b[0m: ResultSet object has no attribute 'get_text'. You're probably treating a list of elements like a single element. Did you call find_all() when you meant to call find()?"
     ]
    }
   ],
   "source": [
    "title = soup.select('h3.tit_view')\n",
    "title.get_text()"
   ]
  },
  {
   "cell_type": "code",
   "execution_count": 12,
   "metadata": {},
   "outputs": [
    {
     "name": "stdout",
     "output_type": "stream",
     "text": [
      "<class 'bs4.element.ResultSet'>\n"
     ]
    },
    {
     "data": {
      "text/plain": [
       "[<div id=\"cMain\">\n",
       " <div id=\"mArticle\">\n",
       " <div data-cloud-area=\"article\">\n",
       " <div class=\"status_view\" data-cloud=\"pc_article_body\" id=\"translateNotice\" style=\"display:none;\"> <span class=\"inner_status\"> <p class=\"txt_status notice_lang notice_lang_en\" style=\"display:none;\">The copyright belongs to the original writer of the content, and there may be errors in machine translation results.</p> <p class=\"txt_status notice_lang notice_lang_cn\" style=\"display:none;\">版权归内容原作者所有。机器翻译结果可能存在错误。</p> <p class=\"txt_status notice_lang notice_lang_jp\" style=\"display:none;\">原文の著作権は原著著作者にあり、機械翻訳の結果にエラーが含まれることがあります。</p> <p class=\"txt_status notice_lang notice_lang_id\" style=\"display:none;\">Hak cipta milik penulis asli dari konten, dan mungkin ditemukan kesalahan dalam hasil terjemahan mesin.</p> <p class=\"txt_status notice_lang notice_lang_vi\" style=\"display:none;\">Bản quyền thuộc về tác giả gốc của nội dung và có thể có lỗi trong kết quả dịch bằng máy.</p> </span>\n",
       " </div>\n",
       " <div class=\"news_view\" data-cloud=\"pc_article_body\" style=\"font-size:17px\"> <strong class=\"summary_view\" data-translation=\"true\"> \"주행 중에도 넷플릭스·유튜브 감상 가능할 것\"<br/>자율주행 아직까지 안전 우려 남아..실현 시기는 미지수 </strong>\n",
       " <div class=\"article_view\" data-translation-body=\"true\" id=\"harmonyContainer\">\n",
       " <section dmcf-sid=\"NkBWHdyrlY\">\n",
       " <figure class=\"figure_frm origin_fig\" dmcf-pid=\"N7s2biXYTL\" dmcf-ptype=\"figure\">\n",
       " <p class=\"link_figure\"><img alt=\"일론 머스크 테슬라 최고경영자(CEO) [이미지출처=로이터연합뉴스]\" class=\"thumb_g_article\" data-org-src=\"https://t1.daumcdn.net/news/201907/28/akn/20190728165813230vjsq.jpg\" data-org-width=\"550\" dmcf-mid=\"NBMY3ZZhN4\" dmcf-mtype=\"image\" height=\"auto\" src=\"https://img4.daumcdn.net/thumb/R658x0.q70/?fname=https://t1.daumcdn.net/news/201907/28/akn/20190728165813230vjsq.jpg\" width=\"658\"/></p>\n",
       " <figcaption class=\"txt_caption default_figure\">\n",
       "             일론 머스크 테슬라 최고경영자(CEO) [이미지출처=로이터연합뉴스]\n",
       "            </figcaption>\n",
       " </figure>\n",
       " <div dmcf-pid=\"NU9K9rfDgA\" dmcf-ptype=\"general\">\n",
       " <p>[아시아경제 이민우 기자] 일론 머스크 테슬라 최고경영자(CEO)가 자사 전기 자동차 모델에 넷플릭스와 유튜브 등 온라인동영상서비스(OTT)를 탑재할 것이라고 예고했다. 단순히 자율 주행 전기차가 단순히 주행을 위한 정보를 알려주는 것을 넘어 각종 영상 콘텐츠를 즐기는 공간으로도 확장하겠다는 전략으로 풀이된다.</p>\n",
       " <br/>\n",
       " <p>27일(현지시간) 더버지 등 주요 외신들에 따르면 머스크 CEO는 자신의 트위터를 통해 이 같은 계획을 밝혔다. 그는 \"자동차가 정차했을 때 넷플릭스와 유튜브를 감상할 수 있는 기능이 조만간 추가될 것\"이라며 \"편안한 좌석과 서라운드 사운드 오디오를 통해 영화관과 같은 느낌을 받을 수 있을 것\"이라고 강조했다.</p>\n",
       " </div>\n",
       " <figure class=\"figure_frm origin_fig\" dmcf-pid=\"NlqQhf4JmF\" dmcf-ptype=\"figure\">\n",
       " <p class=\"link_figure\"><img alt=\"(출처=일론 머스크 트위터 계정 캡쳐)\" class=\"thumb_g_article\" data-org-src=\"https://t1.daumcdn.net/news/201907/28/akn/20190728165813670hwxf.png\" data-org-width=\"550\" dmcf-mid=\"NRhnb5SRpx\" dmcf-mtype=\"image\" height=\"auto\" src=\"https://img4.daumcdn.net/thumb/R658x0.q70/?fname=https://t1.daumcdn.net/news/201907/28/akn/20190728165813670hwxf.png\" width=\"658\"/></p>\n",
       " <figcaption class=\"txt_caption default_figure\">\n",
       "             (출처=일론 머스크 트위터 계정 캡쳐)\n",
       "            </figcaption>\n",
       " </figure>\n",
       " <div dmcf-pid=\"NpkG4d9A6j\" dmcf-ptype=\"general\">\n",
       " <p>테슬라가 이처럼 콘텐츠 방면으로 확장하려 든 것은 이번이 처음이 아니다. 지난달 세계 최대 게임쇼 E3에서는 이미 운전자가 '폴아웃 쉘터'라는 게임을 할 수 있을 것이라고 발표한 바 있다. 이후에도 최근 게임업체 아타리사(社)의 자동차 경주 게임 ‘폴포지션’, 슈팅게임 ‘템페스트’, ‘미사일커맨드’ 등 고전 게임을 제공하기도 했다. 운전대로 게임을 조작하는 방식으로, 차가 주차돼 있을 경우에만 즐길 수 있다.</p>\n",
       " <br/>\n",
       " <p>이번 영상 콘텐츠는 주행 중에도 감상할 수 있도록 하는 방안을 고려하고 있다. 테슬라 측은 규제당국이 자율주행에 대해 완전히 승인하면 차량이 움직일 때에도 승객이 동영상을 즐길 수 있을 것이라고 설명했다.</p>\n",
       " <br/>\n",
       " <p>하지만 아직까지 자율주행차의 안전에 대한 우려는 완전히 걷혀지지 않은 상황이다. 지난 2017년 차량공유 서비스 우버의 자율주행 시범차량이 보행자와 충돌한 사고가 발생한 바 있다. 게다가 당시 시험 운전자는 디즈니의 동영상 스트리밍 서비스인 '훌루'를 이용하고 있던 것으로 밝혀졌다.</p>\n",
       " </div>\n",
       " <p dmcf-pid=\"NUOWg8Qxyd\" dmcf-ptype=\"general\">이민우 기자 letzwin@asiae.co.kr</p>\n",
       " </section>\n",
       " <p data-translation=\"true\">&lt;ⓒ경제를 보는 눈, 세계를 보는 창 아시아경제 무단전재 배포금지&gt;</p>\n",
       " </div>\n",
       " </div>\n",
       " </div>\n",
       " <div class=\"foot_view\" data-cloud-area=\"addition\">\n",
       " <div class=\"emotion_wrap\" data-cloud=\"alex_action_emotion\">\n",
       " <div class=\"emotion_tit\"> <strong class=\"tit_emotion\">이 기사에 대해 어떻게 생각하시나요?</strong>\n",
       " </div>\n",
       " <div class=\"emotion_list\">\n",
       " <div class=\"alex-actions\" data-action-mode=\"REACTION\" data-client-id=\"26BXAvKny5WF5Z09lr5k77Y8\" data-item-key=\"20190728165812603\" data-message-channel=\"alex-action-reactions\" id=\"alex_action_emotion\">\n",
       " </div>\n",
       " </div>\n",
       " </div>\n",
       " <div class=\"relate_series hide\" data-cloud=\"pc_news_cluster\"> <strong class=\"tit_series\"> <em class=\"tag_series\">연재</em> <span class=\"title_series\"></span> </strong>\n",
       " <ul class=\"list_series\"></ul> <a class=\"link_more\" href=\"#none\">더보기</a>\n",
       " </div>\n",
       " <div class=\"cp_view\" data-cloud=\"pc_related_news\">\n",
       " <div class=\"cp_tit\">\n",
       " <h3 class=\"tit_cp\">아시아경제 주요 뉴스</h3>\n",
       " <p class=\"info_cp\">해당 언론사로 연결됩니다.</p>\n",
       " </div>\n",
       " <ul class=\"list_relate\">\n",
       " <li><a class=\"link_txt\" data-type=\"rss\" href=\"https://view.asiae.co.kr/article/2022060911161791735?utm_source=news.v.daum.net&amp;utm_medium=referral\" target=\"_blank\" title='한예리, 올해 초 비연예인 연인과 결혼 \"예식 생략\"'>한예리, 올해 초 비연예인 연인과 결혼 \"예식 생략\"</a></li>\n",
       " <li><a class=\"link_txt\" data-type=\"rss\" href=\"https://view.asiae.co.kr/article/2022061006054815800?utm_source=news.v.daum.net&amp;utm_medium=referral\" target=\"_blank\" title=\"韓 특허 강국인데…&quot;스마트폰 팔수록 '이것'은 손해&quot;[지식재산이 경쟁력]\">韓 특허 강국인데…\"스마트폰 팔수록 '이것'은 손해\"[지식재산이 경쟁력]</a></li>\n",
       " <li><a class=\"link_txt\" data-type=\"rss\" href=\"https://view.asiae.co.kr/article/2022060914021044758?utm_source=news.v.daum.net&amp;utm_medium=referral\" target=\"_blank\" title=\"김대리 커피 살때 난 5000원어치 건물 샀다[실전 재테크]\">김대리 커피 살때 난 5000원어치 건물 샀다[실전 재테크]</a></li>\n",
       " <li><a class=\"link_txt\" data-type=\"rss\" href=\"https://view.asiae.co.kr/article/2022061007303700341?utm_source=news.v.daum.net&amp;utm_medium=referral\" target=\"_blank\" title=\"'국민MC' 송해, 70년 유랑인생 마치고 '천국노래자랑' 떠나다(종합)\">'국민MC' 송해, 70년 유랑인생 마치고 '천국노래자랑' 떠나다(종합)</a></li>\n",
       " <li><a class=\"link_txt\" data-type=\"rss\" href=\"https://view.asiae.co.kr/article/2022060922501655683?utm_source=news.v.daum.net&amp;utm_medium=referral\" target=\"_blank\" title=\"판결 내리던 판사도 울먹…중학생 의붓딸·친구 성폭행한 50대에 징역 25년형\">판결 내리던 판사도 울먹…중학생 의붓딸·친구 성폭행한 50대에 징역 25년형</a></li>\n",
       " <li><a class=\"link_txt\" data-type=\"rss\" href=\"https://view.asiae.co.kr/article/2022060809290552138?utm_source=news.v.daum.net&amp;utm_medium=referral\" target=\"_blank\" title=\"배달 시키려다 멈칫, 100만명이 돌아섰다\">배달 시키려다 멈칫, 100만명이 돌아섰다</a></li>\n",
       " <li><a class=\"link_txt\" data-type=\"rss\" href=\"https://view.asiae.co.kr/article/2022060822405225757?utm_source=news.v.daum.net&amp;utm_medium=referral\" target=\"_blank\" title='\"과도한 방역으로 국민 기본권 침해\"…정은경 전 질병청장 등 4명 고소당해'>\"과도한 방역으로 국민 기본권 침해\"…정은경 전 질병청장 등 4명 고소당해</a></li>\n",
       " <li><a class=\"link_txt\" data-type=\"rss\" href=\"https://view.asiae.co.kr/article/2022060807293604545?utm_source=news.v.daum.net&amp;utm_medium=referral\" target=\"_blank\" title=\"'길이 4m', 메콩강에서 잡힌 괴물 가오리[과학을읽다]\">'길이 4m', 메콩강에서 잡힌 괴물 가오리[과학을읽다]</a></li>\n",
       " <li><a class=\"link_txt\" data-type=\"rss\" href=\"https://view.asiae.co.kr/article/2022060812502770311?utm_source=news.v.daum.net&amp;utm_medium=referral\" target=\"_blank\" title=\"엄영수 “송해, 엊그제 통화 때도 목소리 쩌렁, 전국노래자랑 하차 뜻 없었다” [인터뷰]\">엄영수 “송해, 엊그제 통화 때도 목소리 쩌렁, 전국노래자랑 하차 뜻 없었다” [인터뷰]</a></li>\n",
       " <li><a class=\"link_txt\" data-type=\"rss\" href=\"https://view.asiae.co.kr/article/2022060810151027383?utm_source=news.v.daum.net&amp;utm_medium=referral\" target=\"_blank\" title=\"美 '마하 10' 극초음속 전투기…'탑건' 후속편에 출연한다[과학을읽다]\">美 '마하 10' 극초음속 전투기…'탑건' 후속편에 출연한다[과학을읽다]</a></li>\n",
       " </ul>\n",
       " </div>\n",
       " <div data-cloud=\"pc_article_bottom_ad\" id=\"alex-scroll-area\"></div>\n",
       " <ins class=\"kakao_ad_area recomm_ad\" data-ad-height=\"120\" data-ad-onfail=\"daRenderFailCallBack\" data-ad-unit=\"DAN-28ewRUAQYNwThl1H\" data-ad-width=\"655\" data-cloud=\"pc_article_bottom_ad\" style=\"display: block; text-decoration: none; height: 120px; max-height: inherit; min-height: 120px; min-width: 655px; width: 655px;\"> </ins>\n",
       " <div class=\"cmt_news cmt_view\" data-cloud=\"pc_comment\">\n",
       " <div class=\"news_notice\" id=\"newsviewNotice\"></div>\n",
       " <div class=\"alex-area\" data-base-url=\"//comment.daum.net\" data-client-id=\"26BXAvKny5WF5Z09lr5k77Y8\" data-initial-limit=\"3\" data-is-mobile=\"false\" data-kakao-appkey=\"9076ba452fea1a434141d6b6a2c11a3c\" data-max-length=\"300\" data-page-limit=\"10\" data-post-id=\"@20190728165812603\" data-show-mask-alert=\"true\" data-sort=\"P\" data-use-attachment=\"false\" data-use-emoticon=\"true\" data-use-fold=\"true\" data-use-force-fold=\"true\" data-use-live-comment-mode=\"notify\" data-use-my=\"true\" data-use-official=\"true\" data-use-reply=\"true\" data-use-safebot=\"true\" data-use-skin=\"newsView\" data-use-social-share=\"true\" id=\"alex-area\">\n",
       " </div>\n",
       " </div>\n",
       " </div>\n",
       " </div>\n",
       " <div data-cloud-area=\"aside\" id=\"mAside\">\n",
       " <ins class=\"kakao_ad_area aside_g aside_ad\" data-ad-height=\"250\" data-ad-type=\"D\" data-ad-unit=\"05d24\" data-ad-width=\"250\" data-cloud=\"pc_aside_top_ad\" style=\"display:block;width:250px;height:250px;\"> </ins>\n",
       " <div class=\"aside_g aside_phototv hide\" data-cloud=\"pc_news_photo_tv\">\n",
       " <h3 class=\"txt_newsview\">포토&amp;TV</h3>\n",
       " <div class=\"cont_aside\">\n",
       " <ul class=\"list_phototv\"></ul>\n",
       " </div>\n",
       " </div>\n",
       " <ins class=\"kakao_ad_area aside_g aside_ad\" data-ad-height=\"250\" data-ad-type=\"D\" data-ad-unit=\"0QH44\" data-ad-width=\"250\" data-cloud=\"pc_aside_bottom_ad\" style=\"display:block;width:250px;height:250px;\"> </ins>\n",
       " </div>\n",
       " </div>]"
      ]
     },
     "execution_count": 12,
     "metadata": {},
     "output_type": "execute_result"
    }
   ],
   "source": [
    "cMain = soup.select('div#cMain')\n",
    "print(type(cMain))\n",
    "cMain"
   ]
  },
  {
   "cell_type": "code",
   "execution_count": 16,
   "metadata": {},
   "outputs": [
    {
     "data": {
      "text/plain": [
       "[<p data-translation=\"true\">&lt;ⓒ경제를 보는 눈, 세계를 보는 창 아시아경제 무단전재 배포금지&gt;</p>]"
      ]
     },
     "execution_count": 16,
     "metadata": {},
     "output_type": "execute_result"
    }
   ],
   "source": [
    "# 자식 테그 선택\n",
    "soup.select('#harmonyContainer > p')"
   ]
  },
  {
   "cell_type": "code",
   "execution_count": 17,
   "metadata": {},
   "outputs": [
    {
     "data": {
      "text/plain": [
       "[<p class=\"link_figure\"><img alt=\"일론 머스크 테슬라 최고경영자(CEO) [이미지출처=로이터연합뉴스]\" class=\"thumb_g_article\" data-org-src=\"https://t1.daumcdn.net/news/201907/28/akn/20190728165813230vjsq.jpg\" data-org-width=\"550\" dmcf-mid=\"NBMY3ZZhN4\" dmcf-mtype=\"image\" height=\"auto\" src=\"https://img4.daumcdn.net/thumb/R658x0.q70/?fname=https://t1.daumcdn.net/news/201907/28/akn/20190728165813230vjsq.jpg\" width=\"658\"/></p>,\n",
       " <p>[아시아경제 이민우 기자] 일론 머스크 테슬라 최고경영자(CEO)가 자사 전기 자동차 모델에 넷플릭스와 유튜브 등 온라인동영상서비스(OTT)를 탑재할 것이라고 예고했다. 단순히 자율 주행 전기차가 단순히 주행을 위한 정보를 알려주는 것을 넘어 각종 영상 콘텐츠를 즐기는 공간으로도 확장하겠다는 전략으로 풀이된다.</p>,\n",
       " <p>27일(현지시간) 더버지 등 주요 외신들에 따르면 머스크 CEO는 자신의 트위터를 통해 이 같은 계획을 밝혔다. 그는 \"자동차가 정차했을 때 넷플릭스와 유튜브를 감상할 수 있는 기능이 조만간 추가될 것\"이라며 \"편안한 좌석과 서라운드 사운드 오디오를 통해 영화관과 같은 느낌을 받을 수 있을 것\"이라고 강조했다.</p>,\n",
       " <p class=\"link_figure\"><img alt=\"(출처=일론 머스크 트위터 계정 캡쳐)\" class=\"thumb_g_article\" data-org-src=\"https://t1.daumcdn.net/news/201907/28/akn/20190728165813670hwxf.png\" data-org-width=\"550\" dmcf-mid=\"NRhnb5SRpx\" dmcf-mtype=\"image\" height=\"auto\" src=\"https://img4.daumcdn.net/thumb/R658x0.q70/?fname=https://t1.daumcdn.net/news/201907/28/akn/20190728165813670hwxf.png\" width=\"658\"/></p>,\n",
       " <p>테슬라가 이처럼 콘텐츠 방면으로 확장하려 든 것은 이번이 처음이 아니다. 지난달 세계 최대 게임쇼 E3에서는 이미 운전자가 '폴아웃 쉘터'라는 게임을 할 수 있을 것이라고 발표한 바 있다. 이후에도 최근 게임업체 아타리사(社)의 자동차 경주 게임 ‘폴포지션’, 슈팅게임 ‘템페스트’, ‘미사일커맨드’ 등 고전 게임을 제공하기도 했다. 운전대로 게임을 조작하는 방식으로, 차가 주차돼 있을 경우에만 즐길 수 있다.</p>,\n",
       " <p>이번 영상 콘텐츠는 주행 중에도 감상할 수 있도록 하는 방안을 고려하고 있다. 테슬라 측은 규제당국이 자율주행에 대해 완전히 승인하면 차량이 움직일 때에도 승객이 동영상을 즐길 수 있을 것이라고 설명했다.</p>,\n",
       " <p>하지만 아직까지 자율주행차의 안전에 대한 우려는 완전히 걷혀지지 않은 상황이다. 지난 2017년 차량공유 서비스 우버의 자율주행 시범차량이 보행자와 충돌한 사고가 발생한 바 있다. 게다가 당시 시험 운전자는 디즈니의 동영상 스트리밍 서비스인 '훌루'를 이용하고 있던 것으로 밝혀졌다.</p>,\n",
       " <p dmcf-pid=\"NUOWg8Qxyd\" dmcf-ptype=\"general\">이민우 기자 letzwin@asiae.co.kr</p>,\n",
       " <p data-translation=\"true\">&lt;ⓒ경제를 보는 눈, 세계를 보는 창 아시아경제 무단전재 배포금지&gt;</p>]"
      ]
     },
     "execution_count": 17,
     "metadata": {},
     "output_type": "execute_result"
    }
   ],
   "source": [
    "# 자손 테그 선택\n",
    "soup.select('#harmonyContainer p')"
   ]
  },
  {
   "cell_type": "code",
   "execution_count": 22,
   "metadata": {},
   "outputs": [
    {
     "data": {
      "text/plain": [
       "[<button class=\"emph_g2 link_cmt\" id=\"alexCounter\">댓글 <span class=\"alex-count-area\">0</span>개</button>]"
      ]
     },
     "execution_count": 22,
     "metadata": {},
     "output_type": "execute_result"
    }
   ],
   "source": [
    "alexCounter = soup.select('#alexCounter')\n",
    "alexCounter"
   ]
  },
  {
   "cell_type": "markdown",
   "metadata": {},
   "source": [
    "* CSS를 이용하여 tag 찾기\n",
    " - select, select_one함수 사용 \n",
    " - css selector 사용법\n",
    "   - 태그명 찾기 tag \n",
    "   - 자손 태그 찾기 - 자손 관계 (tag tag)\n",
    "   - 자식 태그 찾기 - 다이렉트 자식 관계 (tag > tag)\n",
    "   - 아이디 찾기 #id\n",
    "   - 클래스 찾기 .class\n",
    "   - 속성값 찾기 [name='test']\n",
    "     - 속성값 prefix 찾기 [name ^='test']\n",
    "     - 속성값 suffix 찾기 [name $='test']\n",
    "     - 속성값 substring 찾기 [name *='test]\n",
    "   - n번째 자식 tag 찾기 :nth-child(n)"
   ]
  },
  {
   "cell_type": "code",
   "execution_count": null,
   "metadata": {},
   "outputs": [],
   "source": []
  },
  {
   "cell_type": "code",
   "execution_count": null,
   "metadata": {},
   "outputs": [],
   "source": []
  },
  {
   "cell_type": "code",
   "execution_count": null,
   "metadata": {},
   "outputs": [],
   "source": []
  },
  {
   "cell_type": "code",
   "execution_count": null,
   "metadata": {},
   "outputs": [],
   "source": []
  },
  {
   "cell_type": "code",
   "execution_count": null,
   "metadata": {},
   "outputs": [],
   "source": []
  },
  {
   "cell_type": "code",
   "execution_count": null,
   "metadata": {},
   "outputs": [],
   "source": []
  },
  {
   "cell_type": "markdown",
   "metadata": {},
   "source": [
    "* 정규표현식으로 tag 찾기"
   ]
  },
  {
   "cell_type": "code",
   "execution_count": null,
   "metadata": {},
   "outputs": [],
   "source": [
    "import re"
   ]
  },
  {
   "cell_type": "code",
   "execution_count": null,
   "metadata": {},
   "outputs": [],
   "source": [
    "soup.find_all(re.compile('h\\d'))"
   ]
  },
  {
   "cell_type": "code",
   "execution_count": null,
   "metadata": {},
   "outputs": [],
   "source": []
  },
  {
   "cell_type": "code",
   "execution_count": null,
   "metadata": {},
   "outputs": [],
   "source": []
  },
  {
   "cell_type": "markdown",
   "metadata": {},
   "source": [
    "* 댓글 개수 추출\n",
    " - 댓글의 경우, 최초 로딩시에 전달되지 않음\n",
    " - 이 경우는 추가적으로 AJAX로 비동기적 호출을 하여 따로 data 전송을 함\n",
    "   - 개발자 도구의 network 탭에서 확인(XHR: XmlHTTPRequest)\n",
    "   - 비동기적 호출: 사이트의 전체가 아닌 일부분만 업데이트 가능하도록 함"
   ]
  },
  {
   "cell_type": "code",
   "execution_count": null,
   "metadata": {},
   "outputs": [],
   "source": []
  },
  {
   "cell_type": "code",
   "execution_count": null,
   "metadata": {},
   "outputs": [],
   "source": []
  },
  {
   "cell_type": "code",
   "execution_count": null,
   "metadata": {},
   "outputs": [],
   "source": []
  }
 ],
 "metadata": {
  "kernelspec": {
   "display_name": "Python 3",
   "language": "python",
   "name": "python3"
  },
  "language_info": {
   "codemirror_mode": {
    "name": "ipython",
    "version": 3
   },
   "file_extension": ".py",
   "mimetype": "text/x-python",
   "name": "python",
   "nbconvert_exporter": "python",
   "pygments_lexer": "ipython3",
   "version": "3.8.3"
  }
 },
 "nbformat": 4,
 "nbformat_minor": 4
}
