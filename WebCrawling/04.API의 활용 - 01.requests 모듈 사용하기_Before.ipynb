{
 "cells": [
  {
   "cell_type": "markdown",
   "metadata": {},
   "source": [
    "### 학습목표 \n",
    " 1. requests 모듈 사용하여 http request/response 확인하기"
   ]
  },
  {
   "cell_type": "markdown",
   "metadata": {},
   "source": [
    "#### requests 모듈\n",
    "1. http request/response를 위한 모듈\n",
    "2. HTTP method를 메소드 명으로 사용하여 request 요청 예) get, post"
   ]
  },
  {
   "cell_type": "code",
   "execution_count": 2,
   "metadata": {},
   "outputs": [],
   "source": [
    "import requests\n",
    "url = 'https://news.v.daum.net/v/20190728165812603'"
   ]
  },
  {
   "cell_type": "markdown",
   "metadata": {},
   "source": [
    "#### get 요청하기\n",
    "1. http get 요청하기\n",
    "2. query **parameter** 이용하여 데이터 전달하기  "
   ]
  },
  {
   "cell_type": "code",
   "execution_count": 10,
   "metadata": {},
   "outputs": [],
   "source": [
    "resp = requests.get(url)\n",
    "# resp.text"
   ]
  },
  {
   "cell_type": "markdown",
   "metadata": {},
   "source": [
    "#### post 요청하기\n",
    "1. http post 요청하기\n",
    "2. post data 이용하여 데이터 전달하기"
   ]
  },
  {
   "cell_type": "code",
   "execution_count": 13,
   "metadata": {},
   "outputs": [],
   "source": [
    "url = 'https://maninbooks.com/login.do'\n",
    "data = {\n",
    "    # \"loginType\": 1,\n",
    "    \"id\": \"test\",\n",
    "    \"pwd\": \"test1234\"\n",
    "}\n",
    "\n",
    "resp = requests.post(url, data=data)\n",
    "# resp.text"
   ]
  },
  {
   "cell_type": "markdown",
   "metadata": {},
   "source": [
    "#### HTTP header 데이터 이용하기\n",
    "1. header 데이터 구성하기\n",
    "2. header 데이터 전달하기"
   ]
  },
  {
   "cell_type": "code",
   "execution_count": 15,
   "metadata": {},
   "outputs": [],
   "source": [
    "url = 'https://news.v.daum.net/v/20190728165812603'\n",
    "headers = {\n",
    "    \"user-agent\": \"Mozilla/5.0 (Windows NT 10.0; Win64; x64) AppleWebKit/537.36 (KHTML, like Gecko) Chrome/102.0.0.0 Safari/537.36\"\n",
    "}\n",
    "resp = requests.get(url, headers=headers)\n",
    "# resp.text"
   ]
  },
  {
   "cell_type": "markdown",
   "metadata": {},
   "source": [
    "#### HTTP response 처리하기\n",
    "1. response 객체의 이해\n",
    "2. status_code 확인하기\n",
    "3. text 속성 확인하기"
   ]
  },
  {
   "cell_type": "code",
   "execution_count": 6,
   "metadata": {},
   "outputs": [
    {
     "data": {
      "text/plain": [
       "requests.models.Response"
      ]
     },
     "execution_count": 6,
     "metadata": {},
     "output_type": "execute_result"
    }
   ],
   "source": [
    "url = 'https://news.v.daum.net/v/20190728165812603'\n",
    "resp = requests.get(url)\n",
    "type(resp)"
   ]
  },
  {
   "cell_type": "code",
   "execution_count": 7,
   "metadata": {},
   "outputs": [
    {
     "data": {
      "text/plain": [
       "200"
      ]
     },
     "execution_count": 7,
     "metadata": {},
     "output_type": "execute_result"
    }
   ],
   "source": [
    "resp.status_code"
   ]
  },
  {
   "cell_type": "code",
   "execution_count": 8,
   "metadata": {},
   "outputs": [
    {
     "name": "stdout",
     "output_type": "stream",
     "text": [
      "{'Date': 'Sat, 11 Jun 2022 16:31:28 GMT', 'Content-Type': 'text/html;charset=UTF-8', 'Transfer-Encoding': 'chunked', 'Connection': 'keep-alive', 'content-encoding': 'gzip', 'Strict-Transport-Security': 'max-age=15724800; includeSubDomains'}\n"
     ]
    }
   ],
   "source": [
    "if resp.status_code == 200:\n",
    "    print(resp.headers)\n",
    "else:\n",
    "    print('error!!!')"
   ]
  },
  {
   "cell_type": "code",
   "execution_count": 9,
   "metadata": {},
   "outputs": [
    {
     "data": {
      "text/plain": [
       "'https://news.v.daum.net/v/20190728165812603'"
      ]
     },
     "execution_count": 9,
     "metadata": {},
     "output_type": "execute_result"
    }
   ],
   "source": [
    "resp.url"
   ]
  }
 ],
 "metadata": {
  "kernelspec": {
   "display_name": "Python 3.10.4 ('venv': venv)",
   "language": "python",
   "name": "python3"
  },
  "language_info": {
   "codemirror_mode": {
    "name": "ipython",
    "version": 3
   },
   "file_extension": ".py",
   "mimetype": "text/x-python",
   "name": "python",
   "nbconvert_exporter": "python",
   "pygments_lexer": "ipython3",
   "version": "3.10.4"
  },
  "vscode": {
   "interpreter": {
    "hash": "90ac1054ae4d1b4495e17feae2810903bb0a00e72b37ea23b21635b94dd8315c"
   }
  }
 },
 "nbformat": 4,
 "nbformat_minor": 4
}
